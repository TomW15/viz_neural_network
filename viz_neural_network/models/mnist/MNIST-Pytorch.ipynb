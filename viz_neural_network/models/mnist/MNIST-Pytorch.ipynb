{
 "cells": [
  {
   "cell_type": "markdown",
   "id": "5df9130a-478c-4ab9-8987-2719382055ad",
   "metadata": {},
   "source": [
    "# MNIST Implemenation using Pytorch"
   ]
  },
  {
   "cell_type": "code",
   "execution_count": 1,
   "id": "7a1efea1-25bf-4bef-8411-3d481cc501b0",
   "metadata": {},
   "outputs": [],
   "source": [
    "## Packages\n",
    "from loguru import logger\n",
    "import matplotlib.pyplot as plt\n",
    "import time\n",
    "\n",
    "import torch\n",
    "from torch.utils.data import random_split\n",
    "from torch.utils.data import DataLoader\n",
    "\n",
    "import dataset\n",
    "import model\n",
    "\n",
    "%matplotlib inline"
   ]
  },
  {
   "cell_type": "code",
   "execution_count": 2,
   "id": "bf895b42-a0ad-47c2-b4e9-ace831aafac5",
   "metadata": {},
   "outputs": [],
   "source": [
    "RELOAD_DATA = False"
   ]
  },
  {
   "cell_type": "markdown",
   "id": "7f12904a-3eb1-4a15-b8d4-c63280ff6026",
   "metadata": {},
   "source": [
    "## Download Data"
   ]
  },
  {
   "cell_type": "code",
   "execution_count": 3,
   "id": "4b5cabf1-84d9-4366-90d8-6237e6f90439",
   "metadata": {},
   "outputs": [],
   "source": [
    "mnist_dataset = dataset.fetch(train=True, download=RELOAD_DATA)\n",
    "test_dataset = dataset.fetch(train=False)"
   ]
  },
  {
   "cell_type": "markdown",
   "id": "aba05f06-4b8a-4f75-88d7-a89be887490b",
   "metadata": {},
   "source": [
    "## Visualize Data"
   ]
  },
  {
   "cell_type": "code",
   "execution_count": 4,
   "id": "a55ec2a3-3903-4352-aded-a10fbbf9ee74",
   "metadata": {},
   "outputs": [],
   "source": [
    "example = 2"
   ]
  },
  {
   "cell_type": "code",
   "execution_count": 5,
   "id": "7a2069d1-af6a-4a04-926c-a57ffa21b3a7",
   "metadata": {},
   "outputs": [
    {
     "name": "stdout",
     "output_type": "stream",
     "text": [
      "torch.Size([1, 28, 28]) 4\n"
     ]
    }
   ],
   "source": [
    "image_tensor, label = mnist_dataset[example]\n",
    "print(image_tensor.shape, label)"
   ]
  },
  {
   "cell_type": "code",
   "execution_count": 6,
   "id": "d86e9eb3-e8f0-406e-b7ae-b937470afd9f",
   "metadata": {},
   "outputs": [
    {
     "data": {
      "text/plain": [
       "<matplotlib.image.AxesImage at 0x12b99f72110>"
      ]
     },
     "execution_count": 6,
     "metadata": {},
     "output_type": "execute_result"
    },
    {
     "data": {
      "image/png": "[encoded data removed]",
      "text/plain": [
       "<Figure size 640x480 with 1 Axes>"
      ]
     },
     "metadata": {},
     "output_type": "display_data"
    }
   ],
   "source": [
    "plt.imshow(image_tensor[0], cmap=\"gray\")"
   ]
  },
  {
   "cell_type": "markdown",
   "id": "304bc03a-d878-4b3e-9b93-e714991d7fd0",
   "metadata": {},
   "source": [
    "## Split Data into Training and Testing Set"
   ]
  },
  {
   "cell_type": "code",
   "execution_count": 7,
   "id": "74bed2f2-3c05-49f2-bc26-967b45fb5048",
   "metadata": {},
   "outputs": [],
   "source": [
    "BATCH_SIZE = 128\n",
    "TRAIN_SIZE = 0.8"
   ]
  },
  {
   "cell_type": "code",
   "execution_count": 8,
   "id": "7c30073a-59ba-457f-8cf8-0f2a94c6998d",
   "metadata": {},
   "outputs": [
    {
     "name": "stdout",
     "output_type": "stream",
     "text": [
      "length of Train Datasets:  48001\n",
      "length of Validation Datasets:  11999\n"
     ]
    }
   ],
   "source": [
    "train_data, validation_data = random_split(dataset=mnist_dataset, lengths=[TRAIN_SIZE, 1 - TRAIN_SIZE])\n",
    "\n",
    "print(\"length of Train Datasets: \", len(train_data))\n",
    "print(\"length of Validation Datasets: \", len(validation_data))"
   ]
  },
  {
   "cell_type": "code",
   "execution_count": 9,
   "id": "fbfd5992-fb2a-4359-a85d-0fb5b2056de8",
   "metadata": {},
   "outputs": [],
   "source": [
    "train_loader = DataLoader(dataset=train_data, batch_size=BATCH_SIZE, shuffle=True)\n",
    "val_loader = DataLoader(dataset=validation_data, batch_size=BATCH_SIZE, shuffle=False)"
   ]
  },
  {
   "cell_type": "code",
   "execution_count": null,
   "id": "6e56311b-5389-461f-84e3-016edd112bd4",
   "metadata": {},
   "outputs": [],
   "source": []
  },
  {
   "cell_type": "markdown",
   "id": "719f3a76-ab73-4b7a-93b9-d55e4d4cc399",
   "metadata": {},
   "source": [
    "### Define Device"
   ]
  },
  {
   "cell_type": "code",
   "execution_count": 10,
   "id": "c22e2a64-b833-41af-b789-47b713a2c4f6",
   "metadata": {},
   "outputs": [
    {
     "name": "stderr",
     "output_type": "stream",
     "text": [
      "\u001b[32m2024-02-23 19:11:03.891\u001b[0m | \u001b[1mINFO    \u001b[0m | \u001b[36m__main__\u001b[0m:\u001b[36mget_device\u001b[0m:\u001b[36m10\u001b[0m - \u001b[1mRunning on the CPU\u001b[0m\n"
     ]
    },
    {
     "data": {
      "text/plain": [
       "device(type='cpu')"
      ]
     },
     "execution_count": 10,
     "metadata": {},
     "output_type": "execute_result"
    }
   ],
   "source": [
    "def get_device() -> torch.device:\n",
    "\n",
    "    if torch.cuda.is_available():\n",
    "        logger.info(\"Running on the GPU\")\n",
    "        n_gpu = 0 # different if you have more than 1\n",
    "        assert n_gpu <= (torch.cuda.device_count() - 1)\n",
    "        logger.info(f\"Using gpu={n_gpu} out of {torch.cuda.device_count()}\")\n",
    "        device = torch.device(f\"cuda:{n_gpu}\")\n",
    "    else:\n",
    "        logger.info(\"Running on the CPU\")\n",
    "        device = torch.device(\"cpu\")\n",
    "    \n",
    "    return device\n",
    "\n",
    "DEVICE = get_device()\n",
    "DEVICE"
   ]
  },
  {
   "cell_type": "markdown",
   "id": "f6633d8a-9c67-42ce-b9e4-650afb3bcdd1",
   "metadata": {},
   "source": [
    "## Create Pytorch Model"
   ]
  },
  {
   "cell_type": "code",
   "execution_count": 11,
   "id": "eef3bec5-8f79-4feb-bea5-ef361873d09d",
   "metadata": {},
   "outputs": [
    {
     "data": {
      "text/plain": [
       "MnistModel(\n",
       "  (fc1): Linear(in_features=784, out_features=32, bias=True)\n",
       "  (fc2): Linear(in_features=32, out_features=32, bias=True)\n",
       "  (fc_output): Linear(in_features=32, out_features=10, bias=True)\n",
       ")"
      ]
     },
     "execution_count": 11,
     "metadata": {},
     "output_type": "execute_result"
    }
   ],
   "source": [
    "network = model.MnistModel().to(device=DEVICE)\n",
    "network"
   ]
  },
  {
   "cell_type": "markdown",
   "id": "efd17ee0-27f8-4f0c-9ebb-d79ae1a44a91",
   "metadata": {},
   "source": [
    "### Train Model"
   ]
  },
  {
   "cell_type": "code",
   "execution_count": 12,
   "id": "7e992ceb-7136-4d48-b3d5-e3647c14e11f",
   "metadata": {},
   "outputs": [],
   "source": [
    "EPOCHS = 100\n",
    "LEARNING_RATE = 0.01\n",
    "OPTIMIZER_FUNC = torch.optim.SGD"
   ]
  },
  {
   "cell_type": "code",
   "execution_count": 13,
   "id": "d77d79c0-db05-473e-9207-d121b876d12f",
   "metadata": {},
   "outputs": [
    {
     "name": "stdout",
     "output_type": "stream",
     "text": [
      "Epoch [0], val_loss: 2.3013, val_acc: 0.1562\n",
      "Epoch [1], val_loss: 2.2995, val_acc: 0.1775\n",
      "Epoch [2], val_loss: 2.2971, val_acc: 0.1707\n",
      "Epoch [3], val_loss: 2.2935, val_acc: 0.1722\n",
      "Epoch [4], val_loss: 2.2872, val_acc: 0.1987\n",
      "Epoch [5], val_loss: 2.2747, val_acc: 0.2081\n",
      "Epoch [6], val_loss: 2.2541, val_acc: 0.2352\n",
      "Epoch [7], val_loss: 2.2326, val_acc: 0.2896\n",
      "Epoch [8], val_loss: 2.2062, val_acc: 0.3792\n",
      "Epoch [9], val_loss: 2.1524, val_acc: 0.4467\n",
      "Epoch [10], val_loss: 2.0874, val_acc: 0.4532\n",
      "Epoch [11], val_loss: 2.0237, val_acc: 0.4750\n",
      "Epoch [12], val_loss: 1.9535, val_acc: 0.6044\n",
      "Epoch [13], val_loss: 1.9027, val_acc: 0.6230\n",
      "Epoch [14], val_loss: 1.8746, val_acc: 0.6289\n",
      "Epoch [15], val_loss: 1.8643, val_acc: 0.6270\n",
      "Epoch [16], val_loss: 1.8468, val_acc: 0.6392\n",
      "Epoch [17], val_loss: 1.8382, val_acc: 0.6421\n",
      "Epoch [18], val_loss: 1.8322, val_acc: 0.6451\n",
      "Epoch [19], val_loss: 1.8253, val_acc: 0.6478\n",
      "Epoch [20], val_loss: 1.8076, val_acc: 0.6771\n",
      "Epoch [21], val_loss: 1.7928, val_acc: 0.7015\n",
      "Epoch [22], val_loss: 1.7820, val_acc: 0.7120\n",
      "Epoch [23], val_loss: 1.7737, val_acc: 0.7152\n",
      "Epoch [24], val_loss: 1.7670, val_acc: 0.7192\n",
      "Epoch [25], val_loss: 1.7614, val_acc: 0.7213\n",
      "Epoch [26], val_loss: 1.7574, val_acc: 0.7238\n",
      "Epoch [27], val_loss: 1.7526, val_acc: 0.7259\n",
      "Epoch [28], val_loss: 1.7491, val_acc: 0.7280\n",
      "Epoch [29], val_loss: 1.7461, val_acc: 0.7303\n",
      "Epoch [30], val_loss: 1.7435, val_acc: 0.7311\n",
      "Epoch [31], val_loss: 1.7411, val_acc: 0.7329\n",
      "Epoch [32], val_loss: 1.7391, val_acc: 0.7336\n",
      "Epoch [33], val_loss: 1.7372, val_acc: 0.7356\n",
      "Epoch [34], val_loss: 1.7355, val_acc: 0.7368\n",
      "Epoch [35], val_loss: 1.7339, val_acc: 0.7376\n",
      "Epoch [36], val_loss: 1.7327, val_acc: 0.7397\n",
      "Epoch [37], val_loss: 1.7312, val_acc: 0.7399\n",
      "Epoch [38], val_loss: 1.7301, val_acc: 0.7398\n",
      "Epoch [39], val_loss: 1.7292, val_acc: 0.7416\n",
      "Epoch [40], val_loss: 1.7280, val_acc: 0.7418\n",
      "Epoch [41], val_loss: 1.7270, val_acc: 0.7423\n",
      "Epoch [42], val_loss: 1.7261, val_acc: 0.7420\n",
      "Epoch [43], val_loss: 1.7252, val_acc: 0.7431\n",
      "Epoch [44], val_loss: 1.7245, val_acc: 0.7437\n",
      "Epoch [45], val_loss: 1.7236, val_acc: 0.7443\n",
      "Epoch [46], val_loss: 1.7229, val_acc: 0.7448\n",
      "Epoch [47], val_loss: 1.7225, val_acc: 0.7453\n",
      "Epoch [48], val_loss: 1.7217, val_acc: 0.7459\n",
      "Epoch [49], val_loss: 1.7211, val_acc: 0.7465\n",
      "Epoch [50], val_loss: 1.7205, val_acc: 0.7470\n",
      "Epoch [51], val_loss: 1.7200, val_acc: 0.7476\n",
      "Epoch [52], val_loss: 1.7195, val_acc: 0.7472\n",
      "Epoch [53], val_loss: 1.7190, val_acc: 0.7474\n",
      "Epoch [54], val_loss: 1.7185, val_acc: 0.7482\n",
      "Epoch [55], val_loss: 1.7181, val_acc: 0.7488\n",
      "Epoch [56], val_loss: 1.7176, val_acc: 0.7490\n",
      "Epoch [57], val_loss: 1.7172, val_acc: 0.7496\n",
      "Epoch [58], val_loss: 1.7168, val_acc: 0.7501\n",
      "Epoch [59], val_loss: 1.7165, val_acc: 0.7502\n",
      "Epoch [60], val_loss: 1.7162, val_acc: 0.7508\n",
      "Epoch [61], val_loss: 1.7158, val_acc: 0.7494\n",
      "Epoch [62], val_loss: 1.7155, val_acc: 0.7508\n",
      "Epoch [63], val_loss: 1.7150, val_acc: 0.7510\n",
      "Epoch [64], val_loss: 1.7147, val_acc: 0.7505\n",
      "Epoch [65], val_loss: 1.7144, val_acc: 0.7514\n",
      "Epoch [66], val_loss: 1.7141, val_acc: 0.7517\n",
      "Epoch [67], val_loss: 1.7138, val_acc: 0.7519\n",
      "Epoch [68], val_loss: 1.7135, val_acc: 0.7524\n",
      "Epoch [69], val_loss: 1.7134, val_acc: 0.7519\n",
      "Epoch [70], val_loss: 1.7130, val_acc: 0.7520\n",
      "Epoch [71], val_loss: 1.7129, val_acc: 0.7524\n",
      "Epoch [72], val_loss: 1.7124, val_acc: 0.7525\n",
      "Epoch [73], val_loss: 1.7122, val_acc: 0.7531\n",
      "Epoch [74], val_loss: 1.7120, val_acc: 0.7534\n",
      "Epoch [75], val_loss: 1.7118, val_acc: 0.7530\n",
      "Epoch [76], val_loss: 1.7115, val_acc: 0.7533\n",
      "Epoch [77], val_loss: 1.7112, val_acc: 0.7535\n",
      "Epoch [78], val_loss: 1.7113, val_acc: 0.7533\n",
      "Epoch [79], val_loss: 1.7108, val_acc: 0.7532\n",
      "Epoch [80], val_loss: 1.7104, val_acc: 0.7530\n",
      "Epoch [81], val_loss: 1.7103, val_acc: 0.7538\n",
      "Epoch [82], val_loss: 1.7102, val_acc: 0.7537\n",
      "Epoch [83], val_loss: 1.7099, val_acc: 0.7530\n",
      "Epoch [84], val_loss: 1.7113, val_acc: 0.7515\n",
      "Epoch [85], val_loss: 1.7095, val_acc: 0.7545\n",
      "Epoch [86], val_loss: 1.7094, val_acc: 0.7541\n",
      "Epoch [87], val_loss: 1.7091, val_acc: 0.7535\n",
      "Epoch [88], val_loss: 1.7090, val_acc: 0.7545\n",
      "Epoch [89], val_loss: 1.7087, val_acc: 0.7536\n",
      "Epoch [90], val_loss: 1.7086, val_acc: 0.7543\n",
      "Epoch [91], val_loss: 1.7084, val_acc: 0.7546\n",
      "Epoch [92], val_loss: 1.7082, val_acc: 0.7542\n",
      "Epoch [93], val_loss: 1.7088, val_acc: 0.7537\n",
      "Epoch [94], val_loss: 1.7079, val_acc: 0.7546\n",
      "Epoch [95], val_loss: 1.7076, val_acc: 0.7540\n",
      "Epoch [96], val_loss: 1.7075, val_acc: 0.7550\n",
      "Epoch [97], val_loss: 1.7074, val_acc: 0.7551\n",
      "Epoch [98], val_loss: 1.7179, val_acc: 0.7449\n",
      "Epoch [99], val_loss: 1.7074, val_acc: 0.7549\n"
     ]
    }
   ],
   "source": [
    "history = model.fit(epochs=EPOCHS, lr=LEARNING_RATE, model=network, train_loader=train_loader, val_loader=val_loader, opt_func=OPTIMIZER_FUNC)"
   ]
  },
  {
   "cell_type": "code",
   "execution_count": null,
   "id": "cb03d27c-0642-4a3a-beb3-804161ecca97",
   "metadata": {},
   "outputs": [],
   "source": []
  },
  {
   "cell_type": "markdown",
   "id": "81db2ee7-90e1-4903-aa09-15ddc8df0cc1",
   "metadata": {},
   "source": [
    "### Plot Loss of Model"
   ]
  },
  {
   "cell_type": "code",
   "execution_count": 14,
   "id": "32eaca30-f28b-4c58-a30b-814c41404146",
   "metadata": {},
   "outputs": [
    {
     "data": {
      "image/png": "[encoded data removed]",
      "text/plain": [
       "<Figure size 640x480 with 1 Axes>"
      ]
     },
     "metadata": {},
     "output_type": "display_data"
    }
   ],
   "source": [
    "plt.plot([result['val_acc'] for result in history], \"-x\")\n",
    "plt.xlabel('epoch')\n",
    "plt.ylabel('accuracy')\n",
    "plt.title('Accuracy Vs. No. of epochs')\n",
    "plt.show()"
   ]
  },
  {
   "cell_type": "code",
   "execution_count": null,
   "id": "4ec8654b-4f26-494f-90ab-90d7b00f8ed2",
   "metadata": {},
   "outputs": [],
   "source": []
  },
  {
   "cell_type": "markdown",
   "id": "6e9eb889-8f4c-412b-8ca8-823efce42a55",
   "metadata": {},
   "source": [
    "### Save Model"
   ]
  },
  {
   "cell_type": "code",
   "execution_count": 15,
   "id": "e5050fe3-0d6d-4db8-98c1-9dc37032a6d5",
   "metadata": {},
   "outputs": [],
   "source": [
    "model.save(model=network)"
   ]
  },
  {
   "cell_type": "markdown",
   "id": "66c8daf3-9b98-4d9b-be37-f552a02941b7",
   "metadata": {},
   "source": [
    "### Load Model"
   ]
  },
  {
   "cell_type": "code",
   "execution_count": 12,
   "id": "fa825fe1-0ccf-446d-838e-12494c37b3b8",
   "metadata": {},
   "outputs": [
    {
     "data": {
      "text/plain": [
       "MnistModel(\n",
       "  (fc1): Linear(in_features=784, out_features=32, bias=True)\n",
       "  (fc2): Linear(in_features=32, out_features=32, bias=True)\n",
       "  (fc_output): Linear(in_features=32, out_features=10, bias=True)\n",
       ")"
      ]
     },
     "execution_count": 12,
     "metadata": {},
     "output_type": "execute_result"
    }
   ],
   "source": [
    "loaded_network = model.load(name=model.MODEL_NAME.format(time=model.LATEST))\n",
    "loaded_network"
   ]
  },
  {
   "cell_type": "code",
   "execution_count": 13,
   "id": "2b706e24-3a8f-4ead-bc1e-85137253be29",
   "metadata": {},
   "outputs": [
    {
     "data": {
      "text/plain": [
       "{'val_loss': 1.703586220741272, 'val_acc': 0.7591797113418579}"
      ]
     },
     "execution_count": 13,
     "metadata": {},
     "output_type": "execute_result"
    }
   ],
   "source": [
    "test_loader = DataLoader(test_dataset, batch_size=256)\n",
    "result = model.evaluate(loaded_network, test_loader)\n",
    "result"
   ]
  },
  {
   "cell_type": "code",
   "execution_count": null,
   "id": "c9fac5b6-5882-4e31-bfe7-bac9166c8b64",
   "metadata": {},
   "outputs": [],
   "source": []
  },
  {
   "cell_type": "code",
   "execution_count": null,
   "id": "dda33b74-82e8-4fcc-bf60-ccb4b7acf1ed",
   "metadata": {},
   "outputs": [],
   "source": []
  },
  {
   "cell_type": "code",
   "execution_count": null,
   "id": "a41b177c-4571-4c23-96b3-4fa0409a4514",
   "metadata": {},
   "outputs": [],
   "source": []
  },
  {
   "cell_type": "code",
   "execution_count": null,
   "id": "3d3ef296-e64a-4e1d-a859-4a25829786f1",
   "metadata": {},
   "outputs": [],
   "source": []
  }
 ],
 "metadata": {
  "kernelspec": {
   "display_name": "Python 3 (ipykernel)",
   "language": "python",
   "name": "python3"
  },
  "language_info": {
   "codemirror_mode": {
    "name": "ipython",
    "version": 3
   },
   "file_extension": ".py",
   "mimetype": "text/x-python",
   "name": "python",
   "nbconvert_exporter": "python",
   "pygments_lexer": "ipython3",
   "version": "3.11.0"
  }
 },
 "nbformat": 4,
 "nbformat_minor": 5
}
